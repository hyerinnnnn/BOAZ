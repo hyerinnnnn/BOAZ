{
 "cells": [
  {
   "cell_type": "markdown",
   "metadata": {},
   "source": [
    "# Python 기초문법 과제\n",
    "Python을 사용할 때 사용되는 if문, for문, 문자열 사용, 파일 Read 위주로 문제를 출제했습니다. 데이터를 분석할 때, 위의 내용들은 자주 나오는 내용이니 잘 공부해놓으면 좋을 것 같습니다."
   ]
  },
  {
   "cell_type": "markdown",
   "metadata": {},
   "source": [
    "#### 1. 주어진 수가 짝수인지 홀수인지 판별하는 프로그램을 작성하시오. (hint : if문)"
   ]
  },
  {
   "cell_type": "code",
   "execution_count": 16,
   "metadata": {},
   "outputs": [
    {
     "name": "stdout",
     "output_type": "stream",
     "text": [
      "숫자를 입력하세요 : 3\n"
     ]
    }
   ],
   "source": [
    "# num 변수에 숫자 입력\n",
    "num = int(input(\"숫자를 입력하세요 : \"))"
   ]
  },
  {
   "cell_type": "code",
   "execution_count": 1,
   "metadata": {},
   "outputs": [
    {
     "name": "stdout",
     "output_type": "stream",
     "text": [
      "숫자를 입력하세요 : 3\n",
      "3는 홀수입니다\n"
     ]
    }
   ],
   "source": [
    "##### Your Code here #####\n",
    "num = int(input(\"숫자를 입력하세요 : \"))\n",
    "if (num%2==0) :\n",
    "    print(\"%d는 짝수입니다\" %num)\n",
    "else :\n",
    "    print(\"%d는 홀수입니다\" %num)\n"
   ]
  },
  {
   "cell_type": "markdown",
   "metadata": {},
   "source": [
    "#### 2. 다음은 학생들의 혈액형(A, B, AB, O)에 대한 데이터이다.\n",
    "#### ['A', 'B', 'A', 'O', 'AB', 'AB', 'O', 'A', 'B', 'O', 'B', 'AB']\n",
    "#### 반복문을 이용하여 각 혈액형 별 학생수의 합계를 구하시오."
   ]
  },
  {
   "cell_type": "code",
   "execution_count": 2,
   "metadata": {},
   "outputs": [],
   "source": [
    "# blood 배열 선언\n",
    "blood = ['A', 'B', 'A', 'O', 'AB', 'AB', 'O', 'A', 'B', 'O', 'B', 'AB']"
   ]
  },
  {
   "cell_type": "code",
   "execution_count": 67,
   "metadata": {},
   "outputs": [
    {
     "name": "stdout",
     "output_type": "stream",
     "text": [
      "A형인 학생 수는 3 명입니다\n",
      "B형인 학생 수는 3 명입니다\n",
      "O형인 학생 수는 3 명입니다\n",
      "AB형인 학생 수는 3 명입니다\n"
     ]
    }
   ],
   "source": [
    "##### Your Code here #####\n",
    "blood = ['A', 'B', 'A', 'O', 'AB', 'AB', 'O', 'A', 'B', 'O', 'B', 'AB']\n",
    "num1=0\n",
    "num2=0\n",
    "num3=0\n",
    "num4=0\n",
    "for i in blood :\n",
    "    if i=='A' :\n",
    "        num1=num1+1\n",
    "    elif i=='B'  :\n",
    "        num2=num2+1\n",
    "    elif i=='O' :\n",
    "        num3=num3+1\n",
    "    else :\n",
    "        num4=num4+1\n",
    "        \n",
    "        \n",
    "print('A형인 학생 수는 %d 명입니다' %num1)\n",
    "print('B형인 학생 수는 %d 명입니다' %num2)\n",
    "print('O형인 학생 수는 %d 명입니다' %num3)\n",
    "print('AB형인 학생 수는 %d 명입니다' %num4)\n"
   ]
  },
  {
   "cell_type": "markdown",
   "metadata": {},
   "source": [
    "#### 3. 다음 문장에서 모음('aeiou')를 제거하시오. (대문자/소문자 모두 제거)\n",
    "#### BOAZ is Big data is Our A to Z."
   ]
  },
  {
   "cell_type": "code",
   "execution_count": 101,
   "metadata": {},
   "outputs": [
    {
     "name": "stdout",
     "output_type": "stream",
     "text": [
      "BOZ is Big data is Our  to Z.\n"
     ]
    }
   ],
   "source": [
    "# 문장 선언\n",
    "sentence = \"BOAZ is Big data is Our A to Z.\" "
   ]
  },
  {
   "cell_type": "code",
   "execution_count": 140,
   "metadata": {},
   "outputs": [
    {
     "name": "stdout",
     "output_type": "stream",
     "text": [
      "BZ s Bg dt s r  t Z."
     ]
    }
   ],
   "source": [
    "##### Your Code here #####\n",
    "sentence = \"BOAZ is Big data is Our A to Z.\"\n",
    "def ex(ex1) :\n",
    "    for i in ex1 :\n",
    "        if i not in ('a', 'e', 'i', 'o', 'u', 'A', 'E', 'I', 'O', 'U') :\n",
    "            print(i, end=\"\")\n",
    "ex(sentence)\n",
    "     \n"
   ]
  },
  {
   "cell_type": "markdown",
   "metadata": {},
   "source": [
    "#### 4. 첫째 줄에는 별 N개, 둘째 줄에는 별 N-1개, ..., N번째 줄에는 별 1개를 출력하시오. (hint : for문)"
   ]
  },
  {
   "cell_type": "raw",
   "metadata": {},
   "source": [
    "< 예시 : N이 5일 때 >\n",
    "*\n",
    "**\n",
    "***\n",
    "****\n",
    "*****"
   ]
  },
  {
   "cell_type": "code",
   "execution_count": 18,
   "metadata": {},
   "outputs": [
    {
     "name": "stdout",
     "output_type": "stream",
     "text": [
      "숫자를 입력하세요 : 5\n"
     ]
    }
   ],
   "source": [
    "n = int(input(\"숫자를 입력하세요 : \"))"
   ]
  },
  {
   "cell_type": "code",
   "execution_count": 23,
   "metadata": {},
   "outputs": [
    {
     "name": "stdout",
     "output_type": "stream",
     "text": [
      "줄바꿈 없이 출력하고 싶어요.줄바꿈 없이 출력되었어요.\n",
      "줄이 바뀌었네요.\n"
     ]
    }
   ],
   "source": [
    "##### 추가 Hint : 줄바꿈 없이 문자열을 출력하는 방법 #####\n",
    "print(\"줄바꿈 없이 출력하고 싶어요.\", end=\"\")\n",
    "print(\"줄바꿈 없이 출력되었어요.\")\n",
    "print(\"줄이 바뀌었네요.\")"
   ]
  },
  {
   "cell_type": "code",
   "execution_count": 7,
   "metadata": {},
   "outputs": [
    {
     "name": "stdout",
     "output_type": "stream",
     "text": [
      "숫자를 입력하세요 : 5\n",
      "*****\n",
      "****\n",
      "***\n",
      "**\n",
      "*\n",
      "숫자를 입력하세요 : 5\n",
      "*\n",
      "**\n",
      "***\n",
      "****\n",
      "*****\n"
     ]
    }
   ],
   "source": [
    "##### Your Code here #####\n",
    "#1(역순)\n",
    "n = int(input(\"숫자를 입력하세요 : \"))\n",
    "while (n>0) :\n",
    "    print('*'*n)\n",
    "    n=n-1\n",
    "#2\n",
    "n = int(input(\"숫자를 입력하세요 : \"))\n",
    "i=1    \n",
    "while (i<=n) :\n",
    "    print('*'*i)\n",
    "    i=i+1"
   ]
  },
  {
   "cell_type": "markdown",
   "metadata": {},
   "source": [
    "#### 5. sample.txt 파일을 읽고, 숫자 10개를 모두 읽어 총합, 평균값, 최댓값, 최솟값을 각각 구하시오.\n",
    "#### (hint : 숫자를 꼭 int형으로 강제 형변환할 것)"
   ]
  },
  {
   "cell_type": "raw",
   "metadata": {},
   "source": [
    "< sample.txt 파일 내용>\n",
    "35\n",
    "45\n",
    "85\n",
    "90\n",
    "99\n",
    "100\n",
    "40\n",
    "42\n",
    "67\n",
    "77"
   ]
  },
  {
   "cell_type": "code",
   "execution_count": 1,
   "metadata": {},
   "outputs": [
    {
     "ename": "FileNotFoundError",
     "evalue": "[Errno 2] No such file or directory: 'C:/Users/hyerin/Desktop/두견/BOAZ/1week/Assignment/sample.txt'",
     "output_type": "error",
     "traceback": [
      "\u001b[1;31m---------------------------------------------------------------------------\u001b[0m",
      "\u001b[1;31mFileNotFoundError\u001b[0m                         Traceback (most recent call last)",
      "\u001b[1;32m<ipython-input-1-616c21cd591a>\u001b[0m in \u001b[0;36m<module>\u001b[1;34m()\u001b[0m\n\u001b[1;32m----> 1\u001b[1;33m \u001b[0mfile\u001b[0m \u001b[1;33m=\u001b[0m \u001b[0mopen\u001b[0m\u001b[1;33m(\u001b[0m\u001b[1;34m\"C:/Users/hyerin/Desktop/두견/BOAZ/1week/Assignment/sample.txt\"\u001b[0m\u001b[1;33m)\u001b[0m\u001b[1;33m\u001b[0m\u001b[0m\n\u001b[0m\u001b[0;32m      2\u001b[0m \u001b[0mlines\u001b[0m \u001b[1;33m=\u001b[0m \u001b[0mfile\u001b[0m\u001b[1;33m.\u001b[0m\u001b[0mreadlines\u001b[0m\u001b[1;33m(\u001b[0m\u001b[1;33m)\u001b[0m\u001b[1;33m\u001b[0m\u001b[0m\n\u001b[0;32m      3\u001b[0m \u001b[1;32mfor\u001b[0m \u001b[0mline\u001b[0m \u001b[1;32min\u001b[0m \u001b[0mlines\u001b[0m\u001b[1;33m:\u001b[0m\u001b[1;33m\u001b[0m\u001b[0m\n\u001b[0;32m      4\u001b[0m     \u001b[0mprint\u001b[0m\u001b[1;33m(\u001b[0m\u001b[0mfloat\u001b[0m\u001b[1;33m(\u001b[0m\u001b[0mline\u001b[0m\u001b[1;33m)\u001b[0m\u001b[1;33m)\u001b[0m\u001b[1;33m\u001b[0m\u001b[0m\n\u001b[0;32m      5\u001b[0m \u001b[0mfile\u001b[0m\u001b[1;33m.\u001b[0m\u001b[0mclose\u001b[0m\u001b[1;33m(\u001b[0m\u001b[1;33m)\u001b[0m\u001b[1;33m\u001b[0m\u001b[0m\n",
      "\u001b[1;31mFileNotFoundError\u001b[0m: [Errno 2] No such file or directory: 'C:/Users/hyerin/Desktop/두견/BOAZ/1week/Assignment/sample.txt'"
     ]
    }
   ],
   "source": [
    "file = open(\"C:/Users/hyerin/Desktop/두견/BOAZ/1week/Assignment/sample.txt\")\n",
    "lines = file.readlines()\n",
    "for line in lines:\n",
    "    print(int(line))\n",
    "file.close()\n",
    "max=0\n",
    "min=100\n",
    "sum=0                    \n",
    "    sum=sum+int(line)\n",
    "    if max<int(line):\n",
    "        max=int(line)\n",
    "    if min>int(line):\n",
    "        min=int(line)\n",
    "print('합계 : ', end=\"\")\n",
    "print(sum)\n",
    "print('평균 : ', end=\"\")\n",
    "print(sum/len(lines))\n",
    "print('최댓값 : ', end=\"\")\n",
    "print(max)\n",
    "print('최솟값 : ', end=\"\")\n",
    "print(min)"
   ]
  },
  {
   "cell_type": "code",
   "execution_count": null,
   "metadata": {},
   "outputs": [],
   "source": []
  }
 ],
 "metadata": {
  "kernelspec": {
   "display_name": "Python 3",
   "language": "python",
   "name": "python3"
  },
  "language_info": {
   "codemirror_mode": {
    "name": "ipython",
    "version": 3
   },
   "file_extension": ".py",
   "mimetype": "text/x-python",
   "name": "python",
   "nbconvert_exporter": "python",
   "pygments_lexer": "ipython3",
   "version": "3.6.5"
  }
 },
 "nbformat": 4,
 "nbformat_minor": 2
}
